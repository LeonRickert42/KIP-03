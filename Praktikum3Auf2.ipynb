{
 "cells": [
  {
   "cell_type": "markdown",
   "id": "fafbbdc9",
   "metadata": {},
   "source": [
    "# Praktikum 3"
   ]
  },
  {
   "cell_type": "markdown",
   "id": "3b63f7aa",
   "metadata": {},
   "source": [
    "## Aufgabe 2: Preprocessing, Training and, Evaluation"
   ]
  },
  {
   "cell_type": "code",
   "execution_count": 1,
   "id": "f0262a1b",
   "metadata": {},
   "outputs": [],
   "source": [
    "import numpy as np\n",
    "import pandas as pd"
   ]
  },
  {
   "cell_type": "markdown",
   "id": "8937c033",
   "metadata": {},
   "source": [
    "### Einlesen"
   ]
  },
  {
   "cell_type": "code",
   "execution_count": 2,
   "id": "c9aaa567",
   "metadata": {},
   "outputs": [],
   "source": [
    "df = pd.read_csv('Praktikum3_Datensatz.csv')"
   ]
  },
  {
   "cell_type": "code",
   "execution_count": 3,
   "id": "3d1f0a94",
   "metadata": {},
   "outputs": [
    {
     "data": {
      "text/html": [
       "<div>\n",
       "<style scoped>\n",
       "    .dataframe tbody tr th:only-of-type {\n",
       "        vertical-align: middle;\n",
       "    }\n",
       "\n",
       "    .dataframe tbody tr th {\n",
       "        vertical-align: top;\n",
       "    }\n",
       "\n",
       "    .dataframe thead th {\n",
       "        text-align: right;\n",
       "    }\n",
       "</style>\n",
       "<table border=\"1\" class=\"dataframe\">\n",
       "  <thead>\n",
       "    <tr style=\"text-align: right;\">\n",
       "      <th></th>\n",
       "      <th>grundstuecksgroesse</th>\n",
       "      <th>stadt</th>\n",
       "      <th>hausgroesse</th>\n",
       "      <th>kriminalitaetsindex</th>\n",
       "      <th>baujahr</th>\n",
       "      <th>klasse</th>\n",
       "    </tr>\n",
       "  </thead>\n",
       "  <tbody>\n",
       "    <tr>\n",
       "      <th>0</th>\n",
       "      <td>266</td>\n",
       "      <td>Grossviertel</td>\n",
       "      <td>294</td>\n",
       "      <td>Mittel</td>\n",
       "      <td>1952</td>\n",
       "      <td>A</td>\n",
       "    </tr>\n",
       "    <tr>\n",
       "      <th>1</th>\n",
       "      <td>172</td>\n",
       "      <td>Grossviertel</td>\n",
       "      <td>249</td>\n",
       "      <td>Niedrig</td>\n",
       "      <td>1982</td>\n",
       "      <td>B</td>\n",
       "    </tr>\n",
       "    <tr>\n",
       "      <th>2</th>\n",
       "      <td>186</td>\n",
       "      <td>Mittelstadt</td>\n",
       "      <td>254</td>\n",
       "      <td>Niedrig</td>\n",
       "      <td>1969</td>\n",
       "      <td>B</td>\n",
       "    </tr>\n",
       "    <tr>\n",
       "      <th>3</th>\n",
       "      <td>140</td>\n",
       "      <td>Grossviertel</td>\n",
       "      <td>180</td>\n",
       "      <td>Hoch</td>\n",
       "      <td>1990</td>\n",
       "      <td>B</td>\n",
       "    </tr>\n",
       "    <tr>\n",
       "      <th>4</th>\n",
       "      <td>256</td>\n",
       "      <td>Mittelstadt</td>\n",
       "      <td>103</td>\n",
       "      <td>Niedrig</td>\n",
       "      <td>1996</td>\n",
       "      <td>A</td>\n",
       "    </tr>\n",
       "  </tbody>\n",
       "</table>\n",
       "</div>"
      ],
      "text/plain": [
       "   grundstuecksgroesse         stadt  hausgroesse kriminalitaetsindex  \\\n",
       "0                  266  Grossviertel          294              Mittel   \n",
       "1                  172  Grossviertel          249             Niedrig   \n",
       "2                  186   Mittelstadt          254             Niedrig   \n",
       "3                  140  Grossviertel          180                Hoch   \n",
       "4                  256   Mittelstadt          103             Niedrig   \n",
       "\n",
       "   baujahr klasse  \n",
       "0     1952      A  \n",
       "1     1982      B  \n",
       "2     1969      B  \n",
       "3     1990      B  \n",
       "4     1996      A  "
      ]
     },
     "execution_count": 3,
     "metadata": {},
     "output_type": "execute_result"
    }
   ],
   "source": [
    "df.head()"
   ]
  },
  {
   "cell_type": "code",
   "execution_count": 4,
   "id": "8efb5fa6",
   "metadata": {},
   "outputs": [
    {
     "name": "stdout",
     "output_type": "stream",
     "text": [
      "<class 'pandas.core.frame.DataFrame'>\n",
      "RangeIndex: 2000 entries, 0 to 1999\n",
      "Data columns (total 6 columns):\n",
      " #   Column               Non-Null Count  Dtype \n",
      "---  ------               --------------  ----- \n",
      " 0   grundstuecksgroesse  2000 non-null   int64 \n",
      " 1   stadt                2000 non-null   object\n",
      " 2   hausgroesse          2000 non-null   int64 \n",
      " 3   kriminalitaetsindex  2000 non-null   object\n",
      " 4   baujahr              2000 non-null   int64 \n",
      " 5   klasse               2000 non-null   object\n",
      "dtypes: int64(3), object(3)\n",
      "memory usage: 93.9+ KB\n"
     ]
    }
   ],
   "source": [
    "df.info()"
   ]
  },
  {
   "cell_type": "code",
   "execution_count": 5,
   "id": "c592a309",
   "metadata": {},
   "outputs": [
    {
     "data": {
      "text/plain": [
       "B    1044\n",
       "A     956\n",
       "Name: klasse, dtype: int64"
      ]
     },
     "execution_count": 5,
     "metadata": {},
     "output_type": "execute_result"
    }
   ],
   "source": [
    "#df['stadt'].value_counts()\n",
    "#df['kriminalitaetsindex'].value_counts()\n",
    "df['klasse'].value_counts()"
   ]
  },
  {
   "cell_type": "markdown",
   "id": "8f6b5242",
   "metadata": {},
   "source": [
    "### Train/Test Split"
   ]
  },
  {
   "cell_type": "code",
   "execution_count": 6,
   "id": "6eb2ecc8",
   "metadata": {},
   "outputs": [],
   "source": [
    "from sklearn.model_selection import train_test_split\n",
    "X = df.drop(\"klasse\", axis=1)\n",
    "y = df[\"klasse\"]\n",
    "\n",
    "X_train, X_test, y_train, y_test = train_test_split(X, y, test_size=0.2, random_state=42)\n",
    "\n",
    "# Reset the indices\n",
    "X_train = X_train.reset_index(drop=True)\n",
    "X_test = X_test.reset_index(drop=True)"
   ]
  },
  {
   "cell_type": "code",
   "execution_count": 7,
   "id": "6ecc7344",
   "metadata": {},
   "outputs": [
    {
     "data": {
      "text/html": [
       "<div>\n",
       "<style scoped>\n",
       "    .dataframe tbody tr th:only-of-type {\n",
       "        vertical-align: middle;\n",
       "    }\n",
       "\n",
       "    .dataframe tbody tr th {\n",
       "        vertical-align: top;\n",
       "    }\n",
       "\n",
       "    .dataframe thead th {\n",
       "        text-align: right;\n",
       "    }\n",
       "</style>\n",
       "<table border=\"1\" class=\"dataframe\">\n",
       "  <thead>\n",
       "    <tr style=\"text-align: right;\">\n",
       "      <th></th>\n",
       "      <th>grundstuecksgroesse</th>\n",
       "      <th>stadt</th>\n",
       "      <th>hausgroesse</th>\n",
       "      <th>kriminalitaetsindex</th>\n",
       "      <th>baujahr</th>\n",
       "      <th>klasse</th>\n",
       "    </tr>\n",
       "  </thead>\n",
       "  <tbody>\n",
       "    <tr>\n",
       "      <th>0</th>\n",
       "      <td>266</td>\n",
       "      <td>Grossviertel</td>\n",
       "      <td>294</td>\n",
       "      <td>Mittel</td>\n",
       "      <td>1952</td>\n",
       "      <td>A</td>\n",
       "    </tr>\n",
       "    <tr>\n",
       "      <th>1</th>\n",
       "      <td>172</td>\n",
       "      <td>Grossviertel</td>\n",
       "      <td>249</td>\n",
       "      <td>Niedrig</td>\n",
       "      <td>1982</td>\n",
       "      <td>B</td>\n",
       "    </tr>\n",
       "    <tr>\n",
       "      <th>2</th>\n",
       "      <td>186</td>\n",
       "      <td>Mittelstadt</td>\n",
       "      <td>254</td>\n",
       "      <td>Niedrig</td>\n",
       "      <td>1969</td>\n",
       "      <td>B</td>\n",
       "    </tr>\n",
       "    <tr>\n",
       "      <th>3</th>\n",
       "      <td>140</td>\n",
       "      <td>Grossviertel</td>\n",
       "      <td>180</td>\n",
       "      <td>Hoch</td>\n",
       "      <td>1990</td>\n",
       "      <td>B</td>\n",
       "    </tr>\n",
       "    <tr>\n",
       "      <th>4</th>\n",
       "      <td>256</td>\n",
       "      <td>Mittelstadt</td>\n",
       "      <td>103</td>\n",
       "      <td>Niedrig</td>\n",
       "      <td>1996</td>\n",
       "      <td>A</td>\n",
       "    </tr>\n",
       "  </tbody>\n",
       "</table>\n",
       "</div>"
      ],
      "text/plain": [
       "   grundstuecksgroesse         stadt  hausgroesse kriminalitaetsindex  \\\n",
       "0                  266  Grossviertel          294              Mittel   \n",
       "1                  172  Grossviertel          249             Niedrig   \n",
       "2                  186   Mittelstadt          254             Niedrig   \n",
       "3                  140  Grossviertel          180                Hoch   \n",
       "4                  256   Mittelstadt          103             Niedrig   \n",
       "\n",
       "   baujahr klasse  \n",
       "0     1952      A  \n",
       "1     1982      B  \n",
       "2     1969      B  \n",
       "3     1990      B  \n",
       "4     1996      A  "
      ]
     },
     "execution_count": 7,
     "metadata": {},
     "output_type": "execute_result"
    }
   ],
   "source": [
    "df.head()"
   ]
  },
  {
   "cell_type": "code",
   "execution_count": 8,
   "id": "0ecde9bb",
   "metadata": {},
   "outputs": [
    {
     "data": {
      "text/html": [
       "<div>\n",
       "<style scoped>\n",
       "    .dataframe tbody tr th:only-of-type {\n",
       "        vertical-align: middle;\n",
       "    }\n",
       "\n",
       "    .dataframe tbody tr th {\n",
       "        vertical-align: top;\n",
       "    }\n",
       "\n",
       "    .dataframe thead th {\n",
       "        text-align: right;\n",
       "    }\n",
       "</style>\n",
       "<table border=\"1\" class=\"dataframe\">\n",
       "  <thead>\n",
       "    <tr style=\"text-align: right;\">\n",
       "      <th></th>\n",
       "      <th>grundstuecksgroesse</th>\n",
       "      <th>stadt</th>\n",
       "      <th>hausgroesse</th>\n",
       "      <th>kriminalitaetsindex</th>\n",
       "      <th>baujahr</th>\n",
       "    </tr>\n",
       "  </thead>\n",
       "  <tbody>\n",
       "    <tr>\n",
       "      <th>0</th>\n",
       "      <td>229</td>\n",
       "      <td>Kleinhausen</td>\n",
       "      <td>272</td>\n",
       "      <td>Hoch</td>\n",
       "      <td>1961</td>\n",
       "    </tr>\n",
       "    <tr>\n",
       "      <th>1</th>\n",
       "      <td>287</td>\n",
       "      <td>Grossviertel</td>\n",
       "      <td>242</td>\n",
       "      <td>Mittel</td>\n",
       "      <td>1952</td>\n",
       "    </tr>\n",
       "    <tr>\n",
       "      <th>2</th>\n",
       "      <td>118</td>\n",
       "      <td>Kleinhausen</td>\n",
       "      <td>220</td>\n",
       "      <td>Niedrig</td>\n",
       "      <td>1993</td>\n",
       "    </tr>\n",
       "    <tr>\n",
       "      <th>3</th>\n",
       "      <td>257</td>\n",
       "      <td>Kleinhausen</td>\n",
       "      <td>123</td>\n",
       "      <td>Niedrig</td>\n",
       "      <td>1957</td>\n",
       "    </tr>\n",
       "    <tr>\n",
       "      <th>4</th>\n",
       "      <td>195</td>\n",
       "      <td>Mittelstadt</td>\n",
       "      <td>118</td>\n",
       "      <td>Hoch</td>\n",
       "      <td>1999</td>\n",
       "    </tr>\n",
       "  </tbody>\n",
       "</table>\n",
       "</div>"
      ],
      "text/plain": [
       "   grundstuecksgroesse         stadt  hausgroesse kriminalitaetsindex  baujahr\n",
       "0                  229   Kleinhausen          272                Hoch     1961\n",
       "1                  287  Grossviertel          242              Mittel     1952\n",
       "2                  118   Kleinhausen          220             Niedrig     1993\n",
       "3                  257   Kleinhausen          123             Niedrig     1957\n",
       "4                  195   Mittelstadt          118                Hoch     1999"
      ]
     },
     "execution_count": 8,
     "metadata": {},
     "output_type": "execute_result"
    }
   ],
   "source": [
    "X_test.head()"
   ]
  },
  {
   "cell_type": "code",
   "execution_count": 9,
   "id": "fc430909",
   "metadata": {},
   "outputs": [
    {
     "data": {
      "text/html": [
       "<div>\n",
       "<style scoped>\n",
       "    .dataframe tbody tr th:only-of-type {\n",
       "        vertical-align: middle;\n",
       "    }\n",
       "\n",
       "    .dataframe tbody tr th {\n",
       "        vertical-align: top;\n",
       "    }\n",
       "\n",
       "    .dataframe thead th {\n",
       "        text-align: right;\n",
       "    }\n",
       "</style>\n",
       "<table border=\"1\" class=\"dataframe\">\n",
       "  <thead>\n",
       "    <tr style=\"text-align: right;\">\n",
       "      <th></th>\n",
       "      <th>grundstuecksgroesse</th>\n",
       "      <th>stadt</th>\n",
       "      <th>hausgroesse</th>\n",
       "      <th>kriminalitaetsindex</th>\n",
       "      <th>baujahr</th>\n",
       "    </tr>\n",
       "  </thead>\n",
       "  <tbody>\n",
       "    <tr>\n",
       "      <th>0</th>\n",
       "      <td>126</td>\n",
       "      <td>Kleinhausen</td>\n",
       "      <td>169</td>\n",
       "      <td>Niedrig</td>\n",
       "      <td>1959</td>\n",
       "    </tr>\n",
       "    <tr>\n",
       "      <th>1</th>\n",
       "      <td>280</td>\n",
       "      <td>Mittelstadt</td>\n",
       "      <td>299</td>\n",
       "      <td>Hoch</td>\n",
       "      <td>1991</td>\n",
       "    </tr>\n",
       "    <tr>\n",
       "      <th>2</th>\n",
       "      <td>172</td>\n",
       "      <td>Kleinhausen</td>\n",
       "      <td>239</td>\n",
       "      <td>Mittel</td>\n",
       "      <td>1998</td>\n",
       "    </tr>\n",
       "    <tr>\n",
       "      <th>3</th>\n",
       "      <td>255</td>\n",
       "      <td>Kleinhausen</td>\n",
       "      <td>106</td>\n",
       "      <td>Niedrig</td>\n",
       "      <td>1985</td>\n",
       "    </tr>\n",
       "    <tr>\n",
       "      <th>4</th>\n",
       "      <td>202</td>\n",
       "      <td>Kleinhausen</td>\n",
       "      <td>143</td>\n",
       "      <td>Mittel</td>\n",
       "      <td>1998</td>\n",
       "    </tr>\n",
       "  </tbody>\n",
       "</table>\n",
       "</div>"
      ],
      "text/plain": [
       "   grundstuecksgroesse        stadt  hausgroesse kriminalitaetsindex  baujahr\n",
       "0                  126  Kleinhausen          169             Niedrig     1959\n",
       "1                  280  Mittelstadt          299                Hoch     1991\n",
       "2                  172  Kleinhausen          239              Mittel     1998\n",
       "3                  255  Kleinhausen          106             Niedrig     1985\n",
       "4                  202  Kleinhausen          143              Mittel     1998"
      ]
     },
     "execution_count": 9,
     "metadata": {},
     "output_type": "execute_result"
    }
   ],
   "source": [
    "X_train.head()"
   ]
  },
  {
   "cell_type": "code",
   "execution_count": 10,
   "id": "11b3ebd8",
   "metadata": {},
   "outputs": [
    {
     "data": {
      "text/plain": [
       "B    836\n",
       "A    764\n",
       "Name: klasse, dtype: int64"
      ]
     },
     "execution_count": 10,
     "metadata": {},
     "output_type": "execute_result"
    }
   ],
   "source": [
    "y_train.value_counts()"
   ]
  },
  {
   "cell_type": "code",
   "execution_count": 11,
   "id": "690dc9ee",
   "metadata": {},
   "outputs": [
    {
     "data": {
      "text/plain": [
       "B    208\n",
       "A    192\n",
       "Name: klasse, dtype: int64"
      ]
     },
     "execution_count": 11,
     "metadata": {},
     "output_type": "execute_result"
    }
   ],
   "source": [
    "y_test.value_counts()"
   ]
  },
  {
   "cell_type": "markdown",
   "id": "9b21ef15",
   "metadata": {},
   "source": [
    "### Preprocessing"
   ]
  },
  {
   "cell_type": "code",
   "execution_count": 12,
   "id": "317ba7d3",
   "metadata": {},
   "outputs": [],
   "source": [
    "continuous_data = [\"grundstuecksgroesse\", \"hausgroesse\", \"baujahr\"]\n",
    "discrete_data = [\"stadt\", \"kriminalitaetsindex\"]"
   ]
  },
  {
   "cell_type": "code",
   "execution_count": 13,
   "id": "2c708d87",
   "metadata": {},
   "outputs": [],
   "source": [
    "from sklearn.preprocessing import StandardScaler\n",
    "# Standardize continuous features\n",
    "scaler = StandardScaler()\n",
    "\n",
    "X_train[continuous_data] = scaler.fit_transform(X_train[continuous_data])\n",
    "#X_test[continuous_data] = scaler.fit_transform(X_test[continuous_data])"
   ]
  },
  {
   "cell_type": "code",
   "execution_count": 14,
   "id": "aa3d14af",
   "metadata": {},
   "outputs": [],
   "source": [
    "X_train[discrete_data] = X_train[discrete_data].astype('category')\n",
    "#X_test[discrete_data] = X_train[discrete_data].astype('category')\n",
    "\n",
    "X_train[\"krimi_new\"] = X_train[\"kriminalitaetsindex\"].cat.codes\n",
    "X_train[\"stadt_new\"] = X_train[\"stadt\"].cat.codes\n",
    "\n",
    "#X_test[\"krimi_new\"] = X_test[\"kriminalitaetsindex\"].cat.codes\n",
    "#X_test[\"stadt_new\"] = X_test[\"stadt\"].cat.codes"
   ]
  },
  {
   "cell_type": "code",
   "execution_count": 15,
   "id": "c7ded84c",
   "metadata": {},
   "outputs": [
    {
     "data": {
      "text/html": [
       "<div>\n",
       "<style scoped>\n",
       "    .dataframe tbody tr th:only-of-type {\n",
       "        vertical-align: middle;\n",
       "    }\n",
       "\n",
       "    .dataframe tbody tr th {\n",
       "        vertical-align: top;\n",
       "    }\n",
       "\n",
       "    .dataframe thead th {\n",
       "        text-align: right;\n",
       "    }\n",
       "</style>\n",
       "<table border=\"1\" class=\"dataframe\">\n",
       "  <thead>\n",
       "    <tr style=\"text-align: right;\">\n",
       "      <th></th>\n",
       "      <th>grundstuecksgroesse</th>\n",
       "      <th>stadt</th>\n",
       "      <th>hausgroesse</th>\n",
       "      <th>kriminalitaetsindex</th>\n",
       "      <th>baujahr</th>\n",
       "    </tr>\n",
       "  </thead>\n",
       "  <tbody>\n",
       "    <tr>\n",
       "      <th>0</th>\n",
       "      <td>229</td>\n",
       "      <td>Kleinhausen</td>\n",
       "      <td>272</td>\n",
       "      <td>Hoch</td>\n",
       "      <td>1961</td>\n",
       "    </tr>\n",
       "    <tr>\n",
       "      <th>1</th>\n",
       "      <td>287</td>\n",
       "      <td>Grossviertel</td>\n",
       "      <td>242</td>\n",
       "      <td>Mittel</td>\n",
       "      <td>1952</td>\n",
       "    </tr>\n",
       "    <tr>\n",
       "      <th>2</th>\n",
       "      <td>118</td>\n",
       "      <td>Kleinhausen</td>\n",
       "      <td>220</td>\n",
       "      <td>Niedrig</td>\n",
       "      <td>1993</td>\n",
       "    </tr>\n",
       "    <tr>\n",
       "      <th>3</th>\n",
       "      <td>257</td>\n",
       "      <td>Kleinhausen</td>\n",
       "      <td>123</td>\n",
       "      <td>Niedrig</td>\n",
       "      <td>1957</td>\n",
       "    </tr>\n",
       "    <tr>\n",
       "      <th>4</th>\n",
       "      <td>195</td>\n",
       "      <td>Mittelstadt</td>\n",
       "      <td>118</td>\n",
       "      <td>Hoch</td>\n",
       "      <td>1999</td>\n",
       "    </tr>\n",
       "  </tbody>\n",
       "</table>\n",
       "</div>"
      ],
      "text/plain": [
       "   grundstuecksgroesse         stadt  hausgroesse kriminalitaetsindex  baujahr\n",
       "0                  229   Kleinhausen          272                Hoch     1961\n",
       "1                  287  Grossviertel          242              Mittel     1952\n",
       "2                  118   Kleinhausen          220             Niedrig     1993\n",
       "3                  257   Kleinhausen          123             Niedrig     1957\n",
       "4                  195   Mittelstadt          118                Hoch     1999"
      ]
     },
     "execution_count": 15,
     "metadata": {},
     "output_type": "execute_result"
    }
   ],
   "source": [
    "X_test.head()"
   ]
  },
  {
   "cell_type": "code",
   "execution_count": 16,
   "id": "9d7bef92",
   "metadata": {},
   "outputs": [],
   "source": [
    "#Discrete\n",
    "from sklearn.preprocessing import OneHotEncoder\n",
    "enc = OneHotEncoder()\n",
    "\n",
    "\n",
    "X_train_encoded = pd.DataFrame(enc.fit_transform(X_train[discrete_data]).toarray()) \n",
    "\n",
    "#X_test_encoded = pd.DataFrame(enc.fit_transform(X_test[discrete_data]).toarray()) \n",
    "\n",
    "#X_train[discrete_data] = enc.fit_transform(X_train[discrete_data])\n",
    "#X_test_encoded[discrete_data] = enc.transform(X_test[discrete_data])\n"
   ]
  },
  {
   "cell_type": "code",
   "execution_count": 17,
   "id": "770182be",
   "metadata": {},
   "outputs": [
    {
     "data": {
      "text/html": [
       "<div>\n",
       "<style scoped>\n",
       "    .dataframe tbody tr th:only-of-type {\n",
       "        vertical-align: middle;\n",
       "    }\n",
       "\n",
       "    .dataframe tbody tr th {\n",
       "        vertical-align: top;\n",
       "    }\n",
       "\n",
       "    .dataframe thead th {\n",
       "        text-align: right;\n",
       "    }\n",
       "</style>\n",
       "<table border=\"1\" class=\"dataframe\">\n",
       "  <thead>\n",
       "    <tr style=\"text-align: right;\">\n",
       "      <th></th>\n",
       "      <th>0</th>\n",
       "      <th>1</th>\n",
       "      <th>2</th>\n",
       "      <th>3</th>\n",
       "      <th>4</th>\n",
       "      <th>5</th>\n",
       "    </tr>\n",
       "  </thead>\n",
       "  <tbody>\n",
       "    <tr>\n",
       "      <th>0</th>\n",
       "      <td>0.0</td>\n",
       "      <td>1.0</td>\n",
       "      <td>0.0</td>\n",
       "      <td>0.0</td>\n",
       "      <td>0.0</td>\n",
       "      <td>1.0</td>\n",
       "    </tr>\n",
       "    <tr>\n",
       "      <th>1</th>\n",
       "      <td>0.0</td>\n",
       "      <td>0.0</td>\n",
       "      <td>1.0</td>\n",
       "      <td>1.0</td>\n",
       "      <td>0.0</td>\n",
       "      <td>0.0</td>\n",
       "    </tr>\n",
       "    <tr>\n",
       "      <th>2</th>\n",
       "      <td>0.0</td>\n",
       "      <td>1.0</td>\n",
       "      <td>0.0</td>\n",
       "      <td>0.0</td>\n",
       "      <td>1.0</td>\n",
       "      <td>0.0</td>\n",
       "    </tr>\n",
       "    <tr>\n",
       "      <th>3</th>\n",
       "      <td>0.0</td>\n",
       "      <td>1.0</td>\n",
       "      <td>0.0</td>\n",
       "      <td>0.0</td>\n",
       "      <td>0.0</td>\n",
       "      <td>1.0</td>\n",
       "    </tr>\n",
       "    <tr>\n",
       "      <th>4</th>\n",
       "      <td>0.0</td>\n",
       "      <td>1.0</td>\n",
       "      <td>0.0</td>\n",
       "      <td>0.0</td>\n",
       "      <td>1.0</td>\n",
       "      <td>0.0</td>\n",
       "    </tr>\n",
       "  </tbody>\n",
       "</table>\n",
       "</div>"
      ],
      "text/plain": [
       "     0    1    2    3    4    5\n",
       "0  0.0  1.0  0.0  0.0  0.0  1.0\n",
       "1  0.0  0.0  1.0  1.0  0.0  0.0\n",
       "2  0.0  1.0  0.0  0.0  1.0  0.0\n",
       "3  0.0  1.0  0.0  0.0  0.0  1.0\n",
       "4  0.0  1.0  0.0  0.0  1.0  0.0"
      ]
     },
     "execution_count": 17,
     "metadata": {},
     "output_type": "execute_result"
    }
   ],
   "source": [
    "X_train_encoded.head()"
   ]
  },
  {
   "cell_type": "code",
   "execution_count": 18,
   "id": "573e7571",
   "metadata": {},
   "outputs": [
    {
     "data": {
      "text/html": [
       "<div>\n",
       "<style scoped>\n",
       "    .dataframe tbody tr th:only-of-type {\n",
       "        vertical-align: middle;\n",
       "    }\n",
       "\n",
       "    .dataframe tbody tr th {\n",
       "        vertical-align: top;\n",
       "    }\n",
       "\n",
       "    .dataframe thead th {\n",
       "        text-align: right;\n",
       "    }\n",
       "</style>\n",
       "<table border=\"1\" class=\"dataframe\">\n",
       "  <thead>\n",
       "    <tr style=\"text-align: right;\">\n",
       "      <th></th>\n",
       "      <th>grundstuecksgroesse</th>\n",
       "      <th>stadt</th>\n",
       "      <th>hausgroesse</th>\n",
       "      <th>kriminalitaetsindex</th>\n",
       "      <th>baujahr</th>\n",
       "      <th>krimi_new</th>\n",
       "      <th>stadt_new</th>\n",
       "    </tr>\n",
       "  </thead>\n",
       "  <tbody>\n",
       "    <tr>\n",
       "      <th>0</th>\n",
       "      <td>-0.658145</td>\n",
       "      <td>Kleinhausen</td>\n",
       "      <td>-0.497998</td>\n",
       "      <td>Niedrig</td>\n",
       "      <td>-1.091639</td>\n",
       "      <td>2</td>\n",
       "      <td>1</td>\n",
       "    </tr>\n",
       "    <tr>\n",
       "      <th>1</th>\n",
       "      <td>1.514131</td>\n",
       "      <td>Mittelstadt</td>\n",
       "      <td>1.744072</td>\n",
       "      <td>Hoch</td>\n",
       "      <td>1.094543</td>\n",
       "      <td>0</td>\n",
       "      <td>2</td>\n",
       "    </tr>\n",
       "    <tr>\n",
       "      <th>2</th>\n",
       "      <td>-0.009283</td>\n",
       "      <td>Kleinhausen</td>\n",
       "      <td>0.709270</td>\n",
       "      <td>Mittel</td>\n",
       "      <td>1.572770</td>\n",
       "      <td>1</td>\n",
       "      <td>1</td>\n",
       "    </tr>\n",
       "    <tr>\n",
       "      <th>3</th>\n",
       "      <td>1.161489</td>\n",
       "      <td>Kleinhausen</td>\n",
       "      <td>-1.584540</td>\n",
       "      <td>Niedrig</td>\n",
       "      <td>0.684633</td>\n",
       "      <td>2</td>\n",
       "      <td>1</td>\n",
       "    </tr>\n",
       "    <tr>\n",
       "      <th>4</th>\n",
       "      <td>0.413887</td>\n",
       "      <td>Kleinhausen</td>\n",
       "      <td>-0.946413</td>\n",
       "      <td>Mittel</td>\n",
       "      <td>1.572770</td>\n",
       "      <td>1</td>\n",
       "      <td>1</td>\n",
       "    </tr>\n",
       "  </tbody>\n",
       "</table>\n",
       "</div>"
      ],
      "text/plain": [
       "   grundstuecksgroesse        stadt  hausgroesse kriminalitaetsindex  \\\n",
       "0            -0.658145  Kleinhausen    -0.497998             Niedrig   \n",
       "1             1.514131  Mittelstadt     1.744072                Hoch   \n",
       "2            -0.009283  Kleinhausen     0.709270              Mittel   \n",
       "3             1.161489  Kleinhausen    -1.584540             Niedrig   \n",
       "4             0.413887  Kleinhausen    -0.946413              Mittel   \n",
       "\n",
       "    baujahr  krimi_new  stadt_new  \n",
       "0 -1.091639          2          1  \n",
       "1  1.094543          0          2  \n",
       "2  1.572770          1          1  \n",
       "3  0.684633          2          1  \n",
       "4  1.572770          1          1  "
      ]
     },
     "execution_count": 18,
     "metadata": {},
     "output_type": "execute_result"
    }
   ],
   "source": [
    "X_train.head()"
   ]
  },
  {
   "cell_type": "code",
   "execution_count": 19,
   "id": "334d431d",
   "metadata": {},
   "outputs": [
    {
     "name": "stdout",
     "output_type": "stream",
     "text": [
      "DataFrame doesn't contain NaN values\n"
     ]
    }
   ],
   "source": [
    "any_nan = y_test.isnull().values.any()\n",
    "\n",
    "if any_nan:\n",
    "    print(\"DataFrame contains NaN values\")\n",
    "else:\n",
    "    print(\"DataFrame doesn't contain NaN values\")"
   ]
  },
  {
   "cell_type": "code",
   "execution_count": 20,
   "id": "73e7fe55",
   "metadata": {},
   "outputs": [
    {
     "name": "stdout",
     "output_type": "stream",
     "text": [
      "<class 'pandas.core.frame.DataFrame'>\n",
      "RangeIndex: 1600 entries, 0 to 1599\n",
      "Data columns (total 7 columns):\n",
      " #   Column               Non-Null Count  Dtype   \n",
      "---  ------               --------------  -----   \n",
      " 0   grundstuecksgroesse  1600 non-null   float64 \n",
      " 1   stadt                1600 non-null   category\n",
      " 2   hausgroesse          1600 non-null   float64 \n",
      " 3   kriminalitaetsindex  1600 non-null   category\n",
      " 4   baujahr              1600 non-null   float64 \n",
      " 5   krimi_new            1600 non-null   int8    \n",
      " 6   stadt_new            1600 non-null   int8    \n",
      "dtypes: category(2), float64(3), int8(2)\n",
      "memory usage: 44.1 KB\n"
     ]
    }
   ],
   "source": [
    "X_train.info()\n",
    "#X_train_encoded.info()"
   ]
  },
  {
   "cell_type": "code",
   "execution_count": 21,
   "id": "9b2955e5",
   "metadata": {},
   "outputs": [
    {
     "name": "stdout",
     "output_type": "stream",
     "text": [
      "<class 'pandas.core.frame.DataFrame'>\n",
      "RangeIndex: 1600 entries, 0 to 1599\n",
      "Data columns (total 6 columns):\n",
      " #   Column  Non-Null Count  Dtype  \n",
      "---  ------  --------------  -----  \n",
      " 0   0       1600 non-null   float64\n",
      " 1   1       1600 non-null   float64\n",
      " 2   2       1600 non-null   float64\n",
      " 3   3       1600 non-null   float64\n",
      " 4   4       1600 non-null   float64\n",
      " 5   5       1600 non-null   float64\n",
      "dtypes: float64(6)\n",
      "memory usage: 75.1 KB\n"
     ]
    }
   ],
   "source": [
    "X_train_encoded.info()"
   ]
  },
  {
   "cell_type": "code",
   "execution_count": 22,
   "id": "379083de",
   "metadata": {},
   "outputs": [],
   "source": [
    "X_train = pd.concat([X_train.drop(columns=discrete_data), X_train_encoded], axis=1)\n",
    "#X_test = pd.concat([X_test.drop(columns=discrete_data), X_test_encoded], axis=1)"
   ]
  },
  {
   "cell_type": "code",
   "execution_count": 23,
   "id": "fb6687bd",
   "metadata": {},
   "outputs": [
    {
     "data": {
      "text/html": [
       "<div>\n",
       "<style scoped>\n",
       "    .dataframe tbody tr th:only-of-type {\n",
       "        vertical-align: middle;\n",
       "    }\n",
       "\n",
       "    .dataframe tbody tr th {\n",
       "        vertical-align: top;\n",
       "    }\n",
       "\n",
       "    .dataframe thead th {\n",
       "        text-align: right;\n",
       "    }\n",
       "</style>\n",
       "<table border=\"1\" class=\"dataframe\">\n",
       "  <thead>\n",
       "    <tr style=\"text-align: right;\">\n",
       "      <th></th>\n",
       "      <th>grundstuecksgroesse</th>\n",
       "      <th>hausgroesse</th>\n",
       "      <th>baujahr</th>\n",
       "      <th>krimi_new</th>\n",
       "      <th>stadt_new</th>\n",
       "      <th>0</th>\n",
       "      <th>1</th>\n",
       "      <th>2</th>\n",
       "      <th>3</th>\n",
       "      <th>4</th>\n",
       "      <th>5</th>\n",
       "    </tr>\n",
       "  </thead>\n",
       "  <tbody>\n",
       "    <tr>\n",
       "      <th>0</th>\n",
       "      <td>-0.658145</td>\n",
       "      <td>-0.497998</td>\n",
       "      <td>-1.091639</td>\n",
       "      <td>2</td>\n",
       "      <td>1</td>\n",
       "      <td>0.0</td>\n",
       "      <td>1.0</td>\n",
       "      <td>0.0</td>\n",
       "      <td>0.0</td>\n",
       "      <td>0.0</td>\n",
       "      <td>1.0</td>\n",
       "    </tr>\n",
       "    <tr>\n",
       "      <th>1</th>\n",
       "      <td>1.514131</td>\n",
       "      <td>1.744072</td>\n",
       "      <td>1.094543</td>\n",
       "      <td>0</td>\n",
       "      <td>2</td>\n",
       "      <td>0.0</td>\n",
       "      <td>0.0</td>\n",
       "      <td>1.0</td>\n",
       "      <td>1.0</td>\n",
       "      <td>0.0</td>\n",
       "      <td>0.0</td>\n",
       "    </tr>\n",
       "    <tr>\n",
       "      <th>2</th>\n",
       "      <td>-0.009283</td>\n",
       "      <td>0.709270</td>\n",
       "      <td>1.572770</td>\n",
       "      <td>1</td>\n",
       "      <td>1</td>\n",
       "      <td>0.0</td>\n",
       "      <td>1.0</td>\n",
       "      <td>0.0</td>\n",
       "      <td>0.0</td>\n",
       "      <td>1.0</td>\n",
       "      <td>0.0</td>\n",
       "    </tr>\n",
       "    <tr>\n",
       "      <th>3</th>\n",
       "      <td>1.161489</td>\n",
       "      <td>-1.584540</td>\n",
       "      <td>0.684633</td>\n",
       "      <td>2</td>\n",
       "      <td>1</td>\n",
       "      <td>0.0</td>\n",
       "      <td>1.0</td>\n",
       "      <td>0.0</td>\n",
       "      <td>0.0</td>\n",
       "      <td>0.0</td>\n",
       "      <td>1.0</td>\n",
       "    </tr>\n",
       "    <tr>\n",
       "      <th>4</th>\n",
       "      <td>0.413887</td>\n",
       "      <td>-0.946413</td>\n",
       "      <td>1.572770</td>\n",
       "      <td>1</td>\n",
       "      <td>1</td>\n",
       "      <td>0.0</td>\n",
       "      <td>1.0</td>\n",
       "      <td>0.0</td>\n",
       "      <td>0.0</td>\n",
       "      <td>1.0</td>\n",
       "      <td>0.0</td>\n",
       "    </tr>\n",
       "  </tbody>\n",
       "</table>\n",
       "</div>"
      ],
      "text/plain": [
       "   grundstuecksgroesse  hausgroesse   baujahr  krimi_new  stadt_new    0    1  \\\n",
       "0            -0.658145    -0.497998 -1.091639          2          1  0.0  1.0   \n",
       "1             1.514131     1.744072  1.094543          0          2  0.0  0.0   \n",
       "2            -0.009283     0.709270  1.572770          1          1  0.0  1.0   \n",
       "3             1.161489    -1.584540  0.684633          2          1  0.0  1.0   \n",
       "4             0.413887    -0.946413  1.572770          1          1  0.0  1.0   \n",
       "\n",
       "     2    3    4    5  \n",
       "0  0.0  0.0  0.0  1.0  \n",
       "1  1.0  1.0  0.0  0.0  \n",
       "2  0.0  0.0  1.0  0.0  \n",
       "3  0.0  0.0  0.0  1.0  \n",
       "4  0.0  0.0  1.0  0.0  "
      ]
     },
     "execution_count": 23,
     "metadata": {},
     "output_type": "execute_result"
    }
   ],
   "source": [
    "X_train.head()"
   ]
  },
  {
   "cell_type": "code",
   "execution_count": 24,
   "id": "8461e9ce",
   "metadata": {},
   "outputs": [
    {
     "data": {
      "text/html": [
       "<div>\n",
       "<style scoped>\n",
       "    .dataframe tbody tr th:only-of-type {\n",
       "        vertical-align: middle;\n",
       "    }\n",
       "\n",
       "    .dataframe tbody tr th {\n",
       "        vertical-align: top;\n",
       "    }\n",
       "\n",
       "    .dataframe thead th {\n",
       "        text-align: right;\n",
       "    }\n",
       "</style>\n",
       "<table border=\"1\" class=\"dataframe\">\n",
       "  <thead>\n",
       "    <tr style=\"text-align: right;\">\n",
       "      <th></th>\n",
       "      <th>grundstuecksgroesse</th>\n",
       "      <th>stadt</th>\n",
       "      <th>hausgroesse</th>\n",
       "      <th>kriminalitaetsindex</th>\n",
       "      <th>baujahr</th>\n",
       "    </tr>\n",
       "  </thead>\n",
       "  <tbody>\n",
       "    <tr>\n",
       "      <th>0</th>\n",
       "      <td>229</td>\n",
       "      <td>Kleinhausen</td>\n",
       "      <td>272</td>\n",
       "      <td>Hoch</td>\n",
       "      <td>1961</td>\n",
       "    </tr>\n",
       "    <tr>\n",
       "      <th>1</th>\n",
       "      <td>287</td>\n",
       "      <td>Grossviertel</td>\n",
       "      <td>242</td>\n",
       "      <td>Mittel</td>\n",
       "      <td>1952</td>\n",
       "    </tr>\n",
       "    <tr>\n",
       "      <th>2</th>\n",
       "      <td>118</td>\n",
       "      <td>Kleinhausen</td>\n",
       "      <td>220</td>\n",
       "      <td>Niedrig</td>\n",
       "      <td>1993</td>\n",
       "    </tr>\n",
       "    <tr>\n",
       "      <th>3</th>\n",
       "      <td>257</td>\n",
       "      <td>Kleinhausen</td>\n",
       "      <td>123</td>\n",
       "      <td>Niedrig</td>\n",
       "      <td>1957</td>\n",
       "    </tr>\n",
       "    <tr>\n",
       "      <th>4</th>\n",
       "      <td>195</td>\n",
       "      <td>Mittelstadt</td>\n",
       "      <td>118</td>\n",
       "      <td>Hoch</td>\n",
       "      <td>1999</td>\n",
       "    </tr>\n",
       "  </tbody>\n",
       "</table>\n",
       "</div>"
      ],
      "text/plain": [
       "   grundstuecksgroesse         stadt  hausgroesse kriminalitaetsindex  baujahr\n",
       "0                  229   Kleinhausen          272                Hoch     1961\n",
       "1                  287  Grossviertel          242              Mittel     1952\n",
       "2                  118   Kleinhausen          220             Niedrig     1993\n",
       "3                  257   Kleinhausen          123             Niedrig     1957\n",
       "4                  195   Mittelstadt          118                Hoch     1999"
      ]
     },
     "execution_count": 24,
     "metadata": {},
     "output_type": "execute_result"
    }
   ],
   "source": [
    "X_test.head()"
   ]
  },
  {
   "cell_type": "code",
   "execution_count": 25,
   "id": "7263c460",
   "metadata": {},
   "outputs": [
    {
     "data": {
      "text/plain": [
       "B    836\n",
       "A    764\n",
       "Name: klasse, dtype: int64"
      ]
     },
     "execution_count": 25,
     "metadata": {},
     "output_type": "execute_result"
    }
   ],
   "source": [
    "y_train.value_counts()"
   ]
  },
  {
   "cell_type": "code",
   "execution_count": 26,
   "id": "de0f8436",
   "metadata": {},
   "outputs": [],
   "source": [
    "y_train = y_train.map({\"A\": 0, \"B\": 1})"
   ]
  },
  {
   "cell_type": "code",
   "execution_count": 27,
   "id": "a0807be9",
   "metadata": {},
   "outputs": [
    {
     "data": {
      "text/plain": [
       "1    836\n",
       "0    764\n",
       "Name: klasse, dtype: int64"
      ]
     },
     "execution_count": 27,
     "metadata": {},
     "output_type": "execute_result"
    }
   ],
   "source": [
    "y_train.value_counts()"
   ]
  },
  {
   "cell_type": "code",
   "execution_count": 28,
   "id": "6114b216",
   "metadata": {},
   "outputs": [
    {
     "data": {
      "text/plain": [
       "B    208\n",
       "A    192\n",
       "Name: klasse, dtype: int64"
      ]
     },
     "execution_count": 28,
     "metadata": {},
     "output_type": "execute_result"
    }
   ],
   "source": [
    "y_test.value_counts()"
   ]
  },
  {
   "cell_type": "code",
   "execution_count": 29,
   "id": "5577e251",
   "metadata": {
    "scrolled": true
   },
   "outputs": [
    {
     "data": {
      "text/plain": [
       "LogisticRegression(random_state=42)"
      ]
     },
     "execution_count": 29,
     "metadata": {},
     "output_type": "execute_result"
    }
   ],
   "source": [
    "from sklearn.linear_model import LogisticRegression\n",
    "model = LogisticRegression(random_state=42)\n",
    "model.fit(X_train, y_train)"
   ]
  },
  {
   "cell_type": "code",
   "execution_count": 30,
   "id": "2c15f745",
   "metadata": {},
   "outputs": [
    {
     "name": "stdout",
     "output_type": "stream",
     "text": [
      "DataFrame doesn't contain NaN values\n"
     ]
    }
   ],
   "source": [
    "any_nan = X_train.isnull().values.any()\n",
    "\n",
    "if any_nan:\n",
    "    print(\"DataFrame contains NaN values\")\n",
    "else:\n",
    "    print(\"DataFrame doesn't contain NaN values\")"
   ]
  },
  {
   "cell_type": "code",
   "execution_count": 31,
   "id": "1045855e",
   "metadata": {},
   "outputs": [
    {
     "name": "stdout",
     "output_type": "stream",
     "text": [
      "<class 'pandas.core.frame.DataFrame'>\n",
      "RangeIndex: 1600 entries, 0 to 1599\n",
      "Data columns (total 11 columns):\n",
      " #   Column               Non-Null Count  Dtype  \n",
      "---  ------               --------------  -----  \n",
      " 0   grundstuecksgroesse  1600 non-null   float64\n",
      " 1   hausgroesse          1600 non-null   float64\n",
      " 2   baujahr              1600 non-null   float64\n",
      " 3   krimi_new            1600 non-null   int8   \n",
      " 4   stadt_new            1600 non-null   int8   \n",
      " 5   0                    1600 non-null   float64\n",
      " 6   1                    1600 non-null   float64\n",
      " 7   2                    1600 non-null   float64\n",
      " 8   3                    1600 non-null   float64\n",
      " 9   4                    1600 non-null   float64\n",
      " 10  5                    1600 non-null   float64\n",
      "dtypes: float64(9), int8(2)\n",
      "memory usage: 115.8 KB\n"
     ]
    }
   ],
   "source": [
    "X_train.info()"
   ]
  },
  {
   "cell_type": "code",
   "execution_count": 32,
   "id": "ad45f24b",
   "metadata": {},
   "outputs": [
    {
     "data": {
      "text/plain": [
       "grundstuecksgroesse    1.782139\n",
       "hausgroesse            1.744072\n",
       "baujahr                1.641088\n",
       "krimi_new              2.000000\n",
       "stadt_new              2.000000\n",
       "0                      1.000000\n",
       "1                      1.000000\n",
       "2                      1.000000\n",
       "3                      1.000000\n",
       "4                      1.000000\n",
       "5                      1.000000\n",
       "dtype: float64"
      ]
     },
     "execution_count": 32,
     "metadata": {},
     "output_type": "execute_result"
    }
   ],
   "source": [
    "X_train.max()"
   ]
  },
  {
   "cell_type": "code",
   "execution_count": 33,
   "id": "a4418262",
   "metadata": {},
   "outputs": [
    {
     "data": {
      "text/plain": [
       "grundstuecksgroesse   -1.730177\n",
       "hausgroesse           -1.688021\n",
       "baujahr               -1.706503\n",
       "krimi_new              0.000000\n",
       "stadt_new              0.000000\n",
       "0                      0.000000\n",
       "1                      0.000000\n",
       "2                      0.000000\n",
       "3                      0.000000\n",
       "4                      0.000000\n",
       "5                      0.000000\n",
       "dtype: float64"
      ]
     },
     "execution_count": 33,
     "metadata": {},
     "output_type": "execute_result"
    }
   ],
   "source": [
    "X_train.min()"
   ]
  },
  {
   "cell_type": "code",
   "execution_count": 34,
   "id": "d884221f",
   "metadata": {},
   "outputs": [
    {
     "data": {
      "text/plain": [
       "1    836\n",
       "0    764\n",
       "Name: klasse, dtype: int64"
      ]
     },
     "execution_count": 34,
     "metadata": {},
     "output_type": "execute_result"
    }
   ],
   "source": [
    "y_train.value_counts()"
   ]
  },
  {
   "cell_type": "code",
   "execution_count": 35,
   "id": "9d81f211",
   "metadata": {},
   "outputs": [],
   "source": [
    "#Standarize the Data\n",
    "y_test = y_test.map({\"A\": 0, \"B\": 1})\n",
    "X_test[continuous_data] = scaler.fit_transform(X_test[continuous_data])"
   ]
  },
  {
   "cell_type": "code",
   "execution_count": 36,
   "id": "69eeb43e",
   "metadata": {},
   "outputs": [
    {
     "data": {
      "text/plain": [
       "1    208\n",
       "0    192\n",
       "Name: klasse, dtype: int64"
      ]
     },
     "execution_count": 36,
     "metadata": {},
     "output_type": "execute_result"
    }
   ],
   "source": [
    "y_test.value_counts()"
   ]
  },
  {
   "cell_type": "code",
   "execution_count": 37,
   "id": "33427df0",
   "metadata": {},
   "outputs": [],
   "source": [
    "#Encode the data\n",
    "X_test[discrete_data] = X_test[discrete_data].astype('category')\n",
    "X_test[\"krimi_new\"] = X_test[\"kriminalitaetsindex\"].cat.codes\n",
    "X_test[\"stadt_new\"] = X_test[\"stadt\"].cat.codes\n",
    "\n",
    "X_test_encoded = pd.DataFrame(enc.fit_transform(X_test[discrete_data]).toarray()) \n",
    "X_test = pd.concat([X_test.drop(columns=discrete_data), X_test_encoded], axis=1)"
   ]
  },
  {
   "cell_type": "code",
   "execution_count": 38,
   "id": "6ca2a6c4",
   "metadata": {},
   "outputs": [
    {
     "data": {
      "text/html": [
       "<div>\n",
       "<style scoped>\n",
       "    .dataframe tbody tr th:only-of-type {\n",
       "        vertical-align: middle;\n",
       "    }\n",
       "\n",
       "    .dataframe tbody tr th {\n",
       "        vertical-align: top;\n",
       "    }\n",
       "\n",
       "    .dataframe thead th {\n",
       "        text-align: right;\n",
       "    }\n",
       "</style>\n",
       "<table border=\"1\" class=\"dataframe\">\n",
       "  <thead>\n",
       "    <tr style=\"text-align: right;\">\n",
       "      <th></th>\n",
       "      <th>grundstuecksgroesse</th>\n",
       "      <th>hausgroesse</th>\n",
       "      <th>baujahr</th>\n",
       "      <th>krimi_new</th>\n",
       "      <th>stadt_new</th>\n",
       "      <th>0</th>\n",
       "      <th>1</th>\n",
       "      <th>2</th>\n",
       "      <th>3</th>\n",
       "      <th>4</th>\n",
       "      <th>5</th>\n",
       "    </tr>\n",
       "  </thead>\n",
       "  <tbody>\n",
       "    <tr>\n",
       "      <th>0</th>\n",
       "      <td>0.672506</td>\n",
       "      <td>1.291181</td>\n",
       "      <td>-0.922316</td>\n",
       "      <td>0</td>\n",
       "      <td>1</td>\n",
       "      <td>0.0</td>\n",
       "      <td>1.0</td>\n",
       "      <td>0.0</td>\n",
       "      <td>1.0</td>\n",
       "      <td>0.0</td>\n",
       "      <td>0.0</td>\n",
       "    </tr>\n",
       "    <tr>\n",
       "      <th>1</th>\n",
       "      <td>1.469713</td>\n",
       "      <td>0.765045</td>\n",
       "      <td>-1.548086</td>\n",
       "      <td>1</td>\n",
       "      <td>0</td>\n",
       "      <td>1.0</td>\n",
       "      <td>0.0</td>\n",
       "      <td>0.0</td>\n",
       "      <td>0.0</td>\n",
       "      <td>1.0</td>\n",
       "      <td>0.0</td>\n",
       "    </tr>\n",
       "    <tr>\n",
       "      <th>2</th>\n",
       "      <td>-0.853183</td>\n",
       "      <td>0.379212</td>\n",
       "      <td>1.302645</td>\n",
       "      <td>2</td>\n",
       "      <td>1</td>\n",
       "      <td>0.0</td>\n",
       "      <td>1.0</td>\n",
       "      <td>0.0</td>\n",
       "      <td>0.0</td>\n",
       "      <td>0.0</td>\n",
       "      <td>1.0</td>\n",
       "    </tr>\n",
       "    <tr>\n",
       "      <th>3</th>\n",
       "      <td>1.057364</td>\n",
       "      <td>-1.321960</td>\n",
       "      <td>-1.200436</td>\n",
       "      <td>2</td>\n",
       "      <td>1</td>\n",
       "      <td>0.0</td>\n",
       "      <td>1.0</td>\n",
       "      <td>0.0</td>\n",
       "      <td>0.0</td>\n",
       "      <td>0.0</td>\n",
       "      <td>1.0</td>\n",
       "    </tr>\n",
       "    <tr>\n",
       "      <th>4</th>\n",
       "      <td>0.205178</td>\n",
       "      <td>-1.409649</td>\n",
       "      <td>1.719826</td>\n",
       "      <td>0</td>\n",
       "      <td>2</td>\n",
       "      <td>0.0</td>\n",
       "      <td>0.0</td>\n",
       "      <td>1.0</td>\n",
       "      <td>1.0</td>\n",
       "      <td>0.0</td>\n",
       "      <td>0.0</td>\n",
       "    </tr>\n",
       "  </tbody>\n",
       "</table>\n",
       "</div>"
      ],
      "text/plain": [
       "   grundstuecksgroesse  hausgroesse   baujahr  krimi_new  stadt_new    0    1  \\\n",
       "0             0.672506     1.291181 -0.922316          0          1  0.0  1.0   \n",
       "1             1.469713     0.765045 -1.548086          1          0  1.0  0.0   \n",
       "2            -0.853183     0.379212  1.302645          2          1  0.0  1.0   \n",
       "3             1.057364    -1.321960 -1.200436          2          1  0.0  1.0   \n",
       "4             0.205178    -1.409649  1.719826          0          2  0.0  0.0   \n",
       "\n",
       "     2    3    4    5  \n",
       "0  0.0  1.0  0.0  0.0  \n",
       "1  0.0  0.0  1.0  0.0  \n",
       "2  0.0  0.0  0.0  1.0  \n",
       "3  0.0  0.0  0.0  1.0  \n",
       "4  1.0  1.0  0.0  0.0  "
      ]
     },
     "execution_count": 38,
     "metadata": {},
     "output_type": "execute_result"
    }
   ],
   "source": [
    "X_test.head()"
   ]
  },
  {
   "cell_type": "code",
   "execution_count": 39,
   "id": "b4543faa",
   "metadata": {},
   "outputs": [
    {
     "data": {
      "text/plain": [
       "1860    1\n",
       "353     1\n",
       "1333    1\n",
       "905     0\n",
       "1289    1\n",
       "Name: klasse, dtype: int64"
      ]
     },
     "execution_count": 39,
     "metadata": {},
     "output_type": "execute_result"
    }
   ],
   "source": [
    "y_test.head()"
   ]
  },
  {
   "cell_type": "code",
   "execution_count": 40,
   "id": "cabe1447",
   "metadata": {},
   "outputs": [
    {
     "name": "stdout",
     "output_type": "stream",
     "text": [
      "DataFrame doesn't contain NaN values\n"
     ]
    }
   ],
   "source": [
    "any_nan = y_test.isnull().values.any()\n",
    "\n",
    "if any_nan:\n",
    "    print(\"DataFrame contains NaN values\")\n",
    "else:\n",
    "    print(\"DataFrame doesn't contain NaN values\")"
   ]
  },
  {
   "cell_type": "code",
   "execution_count": 41,
   "id": "849e52d8",
   "metadata": {},
   "outputs": [],
   "source": [
    "from sklearn.metrics import accuracy_score, precision_score, recall_score\n",
    "\n",
    "y_pred = model.predict(X_test)\n"
   ]
  },
  {
   "cell_type": "code",
   "execution_count": 42,
   "id": "d31ecc8e",
   "metadata": {},
   "outputs": [
    {
     "name": "stdout",
     "output_type": "stream",
     "text": [
      "Accuracy: 0.6625\n",
      "Precision: 0.6636771300448431\n",
      "Recall: 0.7115384615384616\n"
     ]
    }
   ],
   "source": [
    "accuracy = accuracy_score(y_test, y_pred)\n",
    "precision = precision_score(y_test, y_pred)\n",
    "recall = recall_score(y_test, y_pred)\n",
    "\n",
    "print(f\"Accuracy: {accuracy}\")\n",
    "print(f\"Precision: {precision}\")\n",
    "print(f\"Recall: {recall}\")"
   ]
  },
  {
   "cell_type": "code",
   "execution_count": null,
   "id": "dfe2557b",
   "metadata": {},
   "outputs": [],
   "source": []
  }
 ],
 "metadata": {
  "kernelspec": {
   "display_name": "Python 3 (ipykernel)",
   "language": "python",
   "name": "python3"
  },
  "language_info": {
   "codemirror_mode": {
    "name": "ipython",
    "version": 3
   },
   "file_extension": ".py",
   "mimetype": "text/x-python",
   "name": "python",
   "nbconvert_exporter": "python",
   "pygments_lexer": "ipython3",
   "version": "3.9.7"
  }
 },
 "nbformat": 4,
 "nbformat_minor": 5
}
